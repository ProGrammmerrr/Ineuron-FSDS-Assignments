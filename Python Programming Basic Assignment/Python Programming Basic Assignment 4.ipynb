{
 "cells": [
  {
   "cell_type": "code",
   "execution_count": 1,
   "id": "bc212bc6",
   "metadata": {},
   "outputs": [],
   "source": [
    "#1. Write a Python Program to Find the Factorial of a Number?\n",
    "#2. Write a Python Program to Display the multiplication Table?\n",
    "#3. Write a Python Program to Print the Fibonacci sequence?\n",
    "#4. Write a Python Program to Check Armstrong Number?\n",
    "#5. Write a Python Program to Find Armstrong Number in an Interval?\n",
    "#6. Write a Python Program to Find the Sum of Natural Numbers?"
   ]
  },
  {
   "cell_type": "code",
   "execution_count": 7,
   "id": "ed9d229b",
   "metadata": {},
   "outputs": [
    {
     "name": "stdout",
     "output_type": "stream",
     "text": [
      "Enter the number for which the factorial is to be calculated: 5\n",
      "The factorial is:  120\n"
     ]
    }
   ],
   "source": [
    "#1\n",
    "\n",
    "n = int(input(\"Enter the number for which the factorial is to be calculated: \"))\n",
    "fact = 1\n",
    "for i in range (n,1,-1):\n",
    "    fact = fact*i\n",
    "\n",
    "print(\"The factorial is: \", fact)"
   ]
  },
  {
   "cell_type": "code",
   "execution_count": 8,
   "id": "ff9cf09a",
   "metadata": {},
   "outputs": [
    {
     "name": "stdout",
     "output_type": "stream",
     "text": [
      "Enter the number for which the multiplication table is required: 10\n",
      "Enter the number till which the multiplication table is required, ex.10,20,30 : 10\n",
      "Multiplication table for 10: \n",
      "10x1=10\n",
      "10x2=20\n",
      "10x3=30\n",
      "10x4=40\n",
      "10x5=50\n",
      "10x6=60\n",
      "10x7=70\n",
      "10x8=80\n",
      "10x9=90\n",
      "10x10=100\n"
     ]
    }
   ],
   "source": [
    "#2\n",
    "\n",
    "n = int(input(\"Enter the number for which the multiplication table is required: \"))\n",
    "r = int(input(\"Enter the number till which the multiplication table is required, ex.10,20,30 : \"))\n",
    "print(f\"Multiplication table for {n}: \")\n",
    "for i in range (1,r+1):\n",
    "    print(f\"{n}x{i}={n*i}\")\n",
    "    "
   ]
  },
  {
   "cell_type": "code",
   "execution_count": 11,
   "id": "69ccfe3f",
   "metadata": {},
   "outputs": [
    {
     "name": "stdout",
     "output_type": "stream",
     "text": [
      "Enter the number of elements to which the fibonacci sequence is to be calculated: 10\n",
      "0\n",
      "1\n",
      "1\n",
      "2\n",
      "3\n",
      "5\n",
      "8\n",
      "13\n",
      "21\n",
      "34\n"
     ]
    }
   ],
   "source": [
    "#3\n",
    "\n",
    "n = int(input(\"Enter the number of elements to which the fibonacci sequence is to be calculated: \"))\n",
    "a=0\n",
    "b=1\n",
    "print(a)\n",
    "print(b)\n",
    "while n>2:\n",
    "    c = a + b\n",
    "    print(c)\n",
    "    a = b\n",
    "    b = c\n",
    "    n-=1"
   ]
  },
  {
   "cell_type": "code",
   "execution_count": 25,
   "id": "b6512a1c",
   "metadata": {},
   "outputs": [
    {
     "name": "stdout",
     "output_type": "stream",
     "text": [
      "Enter the number to be checked for an armstrong number: 153\n",
      "Its an armstrong number: \n"
     ]
    }
   ],
   "source": [
    "#4\n",
    "\n",
    "n = int(input(\"Enter the number to be checked for an armstrong number: \"))\n",
    "p = n\n",
    "k = 0\n",
    "while n!=0:\n",
    "    k = k + (n%10)**3\n",
    "    n = n//10\n",
    "\n",
    "if k == p:\n",
    "    print(f\"Its an armstrong number: \")\n",
    "else:\n",
    "    print(\"Its not an armstrong number \")"
   ]
  },
  {
   "cell_type": "code",
   "execution_count": 33,
   "id": "cc1b69ae",
   "metadata": {},
   "outputs": [
    {
     "name": "stdout",
     "output_type": "stream",
     "text": [
      "Enter the lower limit of the range of numbers between which an armstrong number is to be found: 0\n",
      "Enter the upper limit of the range of numbers between which an armstrong number is to be found: 999\n",
      "0\n",
      "1\n",
      "153\n",
      "370\n",
      "371\n",
      "407\n"
     ]
    }
   ],
   "source": [
    "#5\n",
    "l = int(input(\"Enter the lower limit of the range of numbers between which an armstrong number is to be found: \"))\n",
    "u = int(input(\"Enter the upper limit of the range of numbers between which an armstrong number is to be found: \"))\n",
    "\n",
    "for n in range (l,u+1):\n",
    "    p = n\n",
    "    k = 0\n",
    "    while n!=0:\n",
    "        k = k + (n%10)**3\n",
    "        n = n//10\n",
    "    if k ==p:\n",
    "        print(k)\n",
    "    "
   ]
  },
  {
   "cell_type": "code",
   "execution_count": 36,
   "id": "dd358c03",
   "metadata": {},
   "outputs": [
    {
     "name": "stdout",
     "output_type": "stream",
     "text": [
      "Enter the numbers of natural numbers to be added: 100\n",
      "The sum of first {n} natural numbers is:  5050\n"
     ]
    }
   ],
   "source": [
    "#6 \n",
    "\n",
    "n = int(input(\"Enter the numbers of natural numbers to be added: \"))\n",
    "sum = 0\n",
    "for i in range(1,n+1):\n",
    "    sum = sum + i\n",
    "print(\"The sum of first {n} natural numbers is: \", sum)\n",
    "    "
   ]
  },
  {
   "cell_type": "code",
   "execution_count": null,
   "id": "40377707",
   "metadata": {},
   "outputs": [],
   "source": []
  }
 ],
 "metadata": {
  "kernelspec": {
   "display_name": "Python 3",
   "language": "python",
   "name": "python3"
  },
  "language_info": {
   "codemirror_mode": {
    "name": "ipython",
    "version": 3
   },
   "file_extension": ".py",
   "mimetype": "text/x-python",
   "name": "python",
   "nbconvert_exporter": "python",
   "pygments_lexer": "ipython3",
   "version": "3.8.8"
  }
 },
 "nbformat": 4,
 "nbformat_minor": 5
}
