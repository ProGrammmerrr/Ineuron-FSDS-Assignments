{
 "cells": [
  {
   "cell_type": "code",
   "execution_count": 1,
   "id": "a9c74aed",
   "metadata": {},
   "outputs": [],
   "source": [
    "#1. Write a Python program to convert kilometers to miles?\n",
    "#2. Write a Python program to convert Celsius to Fahrenheit?\n",
    "#3. Write a Python program to display calendar?\n",
    "#4. Write a Python program to solve quadratic equation?\n",
    "#5. Write a Python program to swap two variables without temp variable?"
   ]
  },
  {
   "cell_type": "code",
   "execution_count": 3,
   "id": "bcd74511",
   "metadata": {},
   "outputs": [
    {
     "name": "stdout",
     "output_type": "stream",
     "text": [
      "Enter the distance in kilometers: 12435\n",
      "The distance entered is 12435 Kms and it's equivalent in miles is 7726.748385 mi\n"
     ]
    }
   ],
   "source": [
    "#1\n",
    "\n",
    "\n",
    "a = int(input(\"Enter the distance in kilometers: \"))\n",
    "print(f\"The distance entered is {a} Kms and it's equivalent in miles is {a*0.621371} mi\")"
   ]
  },
  {
   "cell_type": "code",
   "execution_count": 6,
   "id": "005854f3",
   "metadata": {},
   "outputs": [
    {
     "name": "stdout",
     "output_type": "stream",
     "text": [
      "Enter the temperature in degrees celcius: 37\n",
      "The temperature in celcius is 37°C and after conversion to Fahrenheit it becomes 98.60000000000001°F\n"
     ]
    }
   ],
   "source": [
    "#2\n",
    "\n",
    "c = int(input(\"Enter the temperature in degrees celcius: \"))\n",
    "print(f\"The temperature in celcius is {c}°C and after conversion to Fahrenheit it becomes {(c*1.8)+32}°F\")"
   ]
  },
  {
   "cell_type": "code",
   "execution_count": 8,
   "id": "98a882cd",
   "metadata": {},
   "outputs": [
    {
     "name": "stdout",
     "output_type": "stream",
     "text": [
      "Enter the year in the 'yyyy' format: 1999\n",
      "Enter the month in the 'mm' format: 05\n",
      "      May 1999\n",
      "Mo Tu We Th Fr Sa Su\n",
      "                1  2\n",
      " 3  4  5  6  7  8  9\n",
      "10 11 12 13 14 15 16\n",
      "17 18 19 20 21 22 23\n",
      "24 25 26 27 28 29 30\n",
      "31\n",
      "\n"
     ]
    }
   ],
   "source": [
    "#3\n",
    "\n",
    "import calendar\n",
    "\n",
    "year = int(input(\"Enter the year in the 'yyyy' format: \"))\n",
    "month = int(input(\"Enter the month in the 'mm' format: \"))\n",
    "\n",
    "print(calendar.month(year,month))"
   ]
  },
  {
   "cell_type": "code",
   "execution_count": 12,
   "id": "489bb33b",
   "metadata": {},
   "outputs": [
    {
     "name": "stdout",
     "output_type": "stream",
     "text": [
      "Enter the coefficient of x2: 3\n",
      "Enter the coefficient of x: 7\n",
      "Enter the constant term: 2\n",
      "The roots of x after solving the quadratic equation 3x^2 + 7x + 2 are -0.3333333333333333 and -2.0 \n"
     ]
    }
   ],
   "source": [
    "#4 ax2 + bx + c = 0\n",
    "\n",
    "a = int(input(\"Enter the coefficient of x2: \"))\n",
    "b = int(input(\"Enter the coefficient of x: \"))\n",
    "c = int(input(\"Enter the constant term: \"))\n",
    "x_1 = (-b + ((b**2)-(4*a*c))**0.5)/(2*a)\n",
    "x_2 = (-b - ((b**2)-(4*a*c))**0.5)/(2*a)\n",
    "print(f\"The roots of x after solving the quadratic equation {a}x^2 + {b}x + {c} are {x_1} and {x_2} \")\n",
    "\n",
    "# (Note for future) can also use cmath library"
   ]
  },
  {
   "cell_type": "code",
   "execution_count": 3,
   "id": "f6eb27ce",
   "metadata": {},
   "outputs": [
    {
     "name": "stdout",
     "output_type": "stream",
     "text": [
      "Enter the first variable 'a': Sachin\n",
      "Enter the second variable 'b': Sajith\n",
      "The variables 'a' and 'b' after swap are Sajith and Sachin respectively\n"
     ]
    }
   ],
   "source": [
    "#5\n",
    "\n",
    "a = input(\"Enter the first variable 'a': \")\n",
    "b = input(\"Enter the second variable 'b': \")\n",
    "\n",
    "a,b = b,a\n",
    "print(f\"The variables 'a' and 'b' after swap are {a} and {b} respectively\")"
   ]
  },
  {
   "cell_type": "code",
   "execution_count": null,
   "id": "583add0e",
   "metadata": {},
   "outputs": [],
   "source": []
  }
 ],
 "metadata": {
  "kernelspec": {
   "display_name": "Python 3",
   "language": "python",
   "name": "python3"
  },
  "language_info": {
   "codemirror_mode": {
    "name": "ipython",
    "version": 3
   },
   "file_extension": ".py",
   "mimetype": "text/x-python",
   "name": "python",
   "nbconvert_exporter": "python",
   "pygments_lexer": "ipython3",
   "version": "3.8.8"
  }
 },
 "nbformat": 4,
 "nbformat_minor": 5
}
