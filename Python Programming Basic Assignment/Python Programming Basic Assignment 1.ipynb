{
 "cells": [
  {
   "cell_type": "code",
   "execution_count": 2,
   "id": "52f41bd0",
   "metadata": {},
   "outputs": [
    {
     "name": "stdout",
     "output_type": "stream",
     "text": [
      "Hello Python\n"
     ]
    }
   ],
   "source": [
    "#1. Write a Python program to print \"Hello Python\"?\n",
    "\n",
    "#---------------------------------------------------------------------------\n",
    "print(\"Hello Python\")"
   ]
  },
  {
   "cell_type": "code",
   "execution_count": 3,
   "id": "9c9f190c",
   "metadata": {},
   "outputs": [
    {
     "name": "stdout",
     "output_type": "stream",
     "text": [
      "Enter the first number23\n",
      "Enter the secong number34\n",
      "Enter the keyword 'A' to add or 'M' to multiply the two numbersA\n",
      "The sum of the two numbers is :  57\n"
     ]
    }
   ],
   "source": [
    "#2. Write a Python program to do arithmetical operations addition and division.?\n",
    "\n",
    "#---------------------------------------------------------------------------\n",
    "a = int(input(\"Enter the first number\"))\n",
    "b = int(input(\"Enter the secong number\"))\n",
    "\n",
    "c = input(\"Enter the keyword 'A' to add or 'M' to multiply the two numbers\")\n",
    "\n",
    "if c == \"A\":\n",
    "    print(\"The sum of the two numbers is : \", a+b)\n",
    "elif c == \"M\":\n",
    "    print(\"The product of the two numbers is :\", a*b)\n",
    "else:\n",
    "    print(\"Invalid Keyword!!!Try Again.\")"
   ]
  },
  {
   "cell_type": "code",
   "execution_count": 6,
   "id": "ff5317a4",
   "metadata": {},
   "outputs": [
    {
     "name": "stdout",
     "output_type": "stream",
     "text": [
      "Enter the length of the base of the triangle in cm : 23\n",
      "Enter the height of the triangle cm : 40\n",
      "The area of the triange with height 40 cm and base of length 23 cm is 460.0\n"
     ]
    }
   ],
   "source": [
    "#3. Write a Python program to find the area of a triangle?\n",
    "\n",
    "#---------------------------------------------------------------------------\n",
    "\n",
    "b = int(input(\"Enter the length of the base of the triangle in cm : \"))\n",
    "h = int(input(\"Enter the height of the triangle cm : \"))\n",
    "print(f\"The area of the triange with height {h} cm and base of length {b} cm is {0.5*b*h}\")"
   ]
  },
  {
   "cell_type": "code",
   "execution_count": 8,
   "id": "1656fd7d",
   "metadata": {},
   "outputs": [
    {
     "name": "stdout",
     "output_type": "stream",
     "text": [
      "Enter the value of the first variable 'a'Sachin \n",
      "Enter the value of the second variable 'b' Sajith\n",
      "The values of 'a' and 'b' have been swapped and have become Sajith and Sachin  respectively \n"
     ]
    }
   ],
   "source": [
    "#4. Write a Python program to swap two variables?\n",
    "\n",
    "#------------------------------------------------------------------------------\n",
    "\n",
    "a = input(\"Enter the value of the first variable 'a'\")\n",
    "b = input(\"Enter the value of the second variable 'b' \")\n",
    "\n",
    "temp = 0\n",
    "\n",
    "temp = a\n",
    "a = b\n",
    "b = temp\n",
    "\n",
    "print(f\"The values of 'a' and 'b' have been swapped and have become {a} and {b} respectively \")\n",
    "\n"
   ]
  },
  {
   "cell_type": "code",
   "execution_count": 11,
   "id": "db5d5ca4",
   "metadata": {},
   "outputs": [
    {
     "name": "stdout",
     "output_type": "stream",
     "text": [
      "Random number will be generated between a lower and upper limit as given by the user\n",
      "Enter the lower limit: 10\n",
      "Enter the upper limit: 1000\n",
      "A random number between 10 and 1000 is 159\n"
     ]
    }
   ],
   "source": [
    "#5. Write a Python program to generate a random number?\n",
    "\n",
    "#----------------------------------------------------------------\n",
    "import random\n",
    "print(\"Random number will be generated between a lower and upper limit as given by the user\")\n",
    "a = int(input(\"Enter the lower limit: \"))\n",
    "b = int(input(\"Enter the upper limit: \"))\n",
    "\n",
    "print(f\"A random number between {a} and {b} is\" ,random.randint(a,b))\n"
   ]
  },
  {
   "cell_type": "code",
   "execution_count": null,
   "id": "ec3dd775",
   "metadata": {},
   "outputs": [],
   "source": []
  }
 ],
 "metadata": {
  "kernelspec": {
   "display_name": "Python 3",
   "language": "python",
   "name": "python3"
  },
  "language_info": {
   "codemirror_mode": {
    "name": "ipython",
    "version": 3
   },
   "file_extension": ".py",
   "mimetype": "text/x-python",
   "name": "python",
   "nbconvert_exporter": "python",
   "pygments_lexer": "ipython3",
   "version": "3.8.8"
  }
 },
 "nbformat": 4,
 "nbformat_minor": 5
}
